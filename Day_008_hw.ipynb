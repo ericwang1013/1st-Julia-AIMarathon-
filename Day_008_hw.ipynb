{
 "cells": [
  {
   "cell_type": "code",
   "execution_count": 1,
   "metadata": {},
   "outputs": [
    {
     "data": {
      "text/plain": [
       "\"JuliaLang is a GitHub organization. It has many members.\""
      ]
     },
     "execution_count": 1,
     "metadata": {},
     "output_type": "execute_result"
    }
   ],
   "source": [
    "str = \"JuliaLang is a GitHub organization. It has many members.\"\n",
    "open(\"my_file.txt\", \"w\") do io\n",
    "           write(io, str);\n",
    "       end\n",
    "readline(\"my_file.txt\")"
   ]
  },
  {
   "cell_type": "code",
   "execution_count": 2,
   "metadata": {},
   "outputs": [
    {
     "name": "stdout",
     "output_type": "stream",
     "text": [
      "JuliaLang is a GitHub organization. It has many members."
     ]
    }
   ],
   "source": [
    "a = []\n",
    "i = 0\n",
    "\n",
    "while i < lastindex(str)\n",
    "    i = nextind(str, i)\n",
    "    push!(a, i)\n",
    "end\n",
    "for j in a\n",
    "    print(str[j])\n",
    "end"
   ]
  },
  {
   "cell_type": "code",
   "execution_count": null,
   "metadata": {},
   "outputs": [],
   "source": []
  }
 ],
 "metadata": {
  "kernelspec": {
   "display_name": "Julia 1.5.3",
   "language": "julia",
   "name": "julia-1.5"
  },
  "language_info": {
   "file_extension": ".jl",
   "mimetype": "application/julia",
   "name": "julia",
   "version": "1.5.3"
  }
 },
 "nbformat": 4,
 "nbformat_minor": 4
}
