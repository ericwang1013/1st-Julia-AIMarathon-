{
 "cells": [
  {
   "cell_type": "code",
   "execution_count": 1,
   "metadata": {},
   "outputs": [],
   "source": [
    "using Clustering, CSV, DataFrames"
   ]
  },
  {
   "cell_type": "code",
   "execution_count": 2,
   "metadata": {},
   "outputs": [
    {
     "data": {
      "text/html": [
       "<table class=\"data-frame\"><thead><tr><th></th><th>x</th><th>y</th></tr><tr><th></th><th>Int64</th><th>Int64</th></tr></thead><tbody><p>5,000 rows × 2 columns</p><tr><th>1</th><td>664159</td><td>550946</td></tr><tr><th>2</th><td>665845</td><td>557965</td></tr><tr><th>3</th><td>597173</td><td>575538</td></tr><tr><th>4</th><td>618600</td><td>551446</td></tr><tr><th>5</th><td>635690</td><td>608046</td></tr><tr><th>6</th><td>588100</td><td>557588</td></tr><tr><th>7</th><td>582015</td><td>546191</td></tr><tr><th>8</th><td>604678</td><td>574577</td></tr><tr><th>9</th><td>572029</td><td>518313</td></tr><tr><th>10</th><td>604737</td><td>574591</td></tr><tr><th>11</th><td>577728</td><td>587566</td></tr><tr><th>12</th><td>602013</td><td>574722</td></tr><tr><th>13</th><td>627968</td><td>574625</td></tr><tr><th>14</th><td>607269</td><td>536961</td></tr><tr><th>15</th><td>603145</td><td>574795</td></tr><tr><th>16</th><td>671919</td><td>571761</td></tr><tr><th>17</th><td>612184</td><td>570393</td></tr><tr><th>18</th><td>600032</td><td>575310</td></tr><tr><th>19</th><td>627912</td><td>593892</td></tr><tr><th>20</th><td>601967</td><td>604428</td></tr><tr><th>21</th><td>591851</td><td>569051</td></tr><tr><th>22</th><td>601444</td><td>572693</td></tr><tr><th>23</th><td>629718</td><td>558104</td></tr><tr><th>24</th><td>661430</td><td>603567</td></tr><tr><th>25</th><td>597551</td><td>556737</td></tr><tr><th>26</th><td>601182</td><td>582584</td></tr><tr><th>27</th><td>562704</td><td>570596</td></tr><tr><th>28</th><td>605107</td><td>563429</td></tr><tr><th>29</th><td>607214</td><td>575069</td></tr><tr><th>30</th><td>568824</td><td>570203</td></tr><tr><th>&vellip;</th><td>&vellip;</td><td>&vellip;</td></tr></tbody></table>"
      ],
      "text/latex": [
       "\\begin{tabular}{r|cc}\n",
       "\t& x & y\\\\\n",
       "\t\\hline\n",
       "\t& Int64 & Int64\\\\\n",
       "\t\\hline\n",
       "\t1 & 664159 & 550946 \\\\\n",
       "\t2 & 665845 & 557965 \\\\\n",
       "\t3 & 597173 & 575538 \\\\\n",
       "\t4 & 618600 & 551446 \\\\\n",
       "\t5 & 635690 & 608046 \\\\\n",
       "\t6 & 588100 & 557588 \\\\\n",
       "\t7 & 582015 & 546191 \\\\\n",
       "\t8 & 604678 & 574577 \\\\\n",
       "\t9 & 572029 & 518313 \\\\\n",
       "\t10 & 604737 & 574591 \\\\\n",
       "\t11 & 577728 & 587566 \\\\\n",
       "\t12 & 602013 & 574722 \\\\\n",
       "\t13 & 627968 & 574625 \\\\\n",
       "\t14 & 607269 & 536961 \\\\\n",
       "\t15 & 603145 & 574795 \\\\\n",
       "\t16 & 671919 & 571761 \\\\\n",
       "\t17 & 612184 & 570393 \\\\\n",
       "\t18 & 600032 & 575310 \\\\\n",
       "\t19 & 627912 & 593892 \\\\\n",
       "\t20 & 601967 & 604428 \\\\\n",
       "\t21 & 591851 & 569051 \\\\\n",
       "\t22 & 601444 & 572693 \\\\\n",
       "\t23 & 629718 & 558104 \\\\\n",
       "\t24 & 661430 & 603567 \\\\\n",
       "\t25 & 597551 & 556737 \\\\\n",
       "\t26 & 601182 & 582584 \\\\\n",
       "\t27 & 562704 & 570596 \\\\\n",
       "\t28 & 605107 & 563429 \\\\\n",
       "\t29 & 607214 & 575069 \\\\\n",
       "\t30 & 568824 & 570203 \\\\\n",
       "\t$\\dots$ & $\\dots$ & $\\dots$ \\\\\n",
       "\\end{tabular}\n"
      ],
      "text/plain": [
       "5000×2 DataFrame\n",
       "│ Row  │ x      │ y      │\n",
       "│      │ \u001b[90mInt64\u001b[39m  │ \u001b[90mInt64\u001b[39m  │\n",
       "├──────┼────────┼────────┤\n",
       "│ 1    │ 664159 │ 550946 │\n",
       "│ 2    │ 665845 │ 557965 │\n",
       "│ 3    │ 597173 │ 575538 │\n",
       "│ 4    │ 618600 │ 551446 │\n",
       "│ 5    │ 635690 │ 608046 │\n",
       "│ 6    │ 588100 │ 557588 │\n",
       "│ 7    │ 582015 │ 546191 │\n",
       "│ 8    │ 604678 │ 574577 │\n",
       "│ 9    │ 572029 │ 518313 │\n",
       "│ 10   │ 604737 │ 574591 │\n",
       "⋮\n",
       "│ 4990 │ 681053 │ 892766 │\n",
       "│ 4991 │ 683321 │ 873932 │\n",
       "│ 4992 │ 701017 │ 931252 │\n",
       "│ 4993 │ 645677 │ 814395 │\n",
       "│ 4994 │ 677362 │ 853471 │\n",
       "│ 4995 │ 659046 │ 930099 │\n",
       "│ 4996 │ 665426 │ 853940 │\n",
       "│ 4997 │ 691827 │ 863963 │\n",
       "│ 4998 │ 650661 │ 861267 │\n",
       "│ 4999 │ 599647 │ 858702 │\n",
       "│ 5000 │ 684091 │ 842566 │"
      ]
     },
     "execution_count": 2,
     "metadata": {},
     "output_type": "execute_result"
    }
   ],
   "source": [
    "data = CSV.read(\"s1-set.csv\")"
   ]
  },
  {
   "cell_type": "code",
   "execution_count": 3,
   "metadata": {},
   "outputs": [
    {
     "data": {
      "text/plain": [
       "2×5000 LinearAlgebra.Adjoint{Int64,Array{Int64,2}}:\n",
       " 664159  665845  597173  618600  635690  …  691827  650661  599647  684091\n",
       " 550946  557965  575538  551446  608046     863963  861267  858702  842566"
      ]
     },
     "execution_count": 3,
     "metadata": {},
     "output_type": "execute_result"
    }
   ],
   "source": [
    "S = Matrix(data[:, 1:2])'"
   ]
  },
  {
   "cell_type": "code",
   "execution_count": 4,
   "metadata": {},
   "outputs": [
    {
     "data": {
      "text/plain": [
       "KmeansResult{Array{Float64,2},Float64,Int64}([244654.88563049852 320602.55 … 801616.7816455696 167856.14071856288; 847642.0410557184 161521.85 … 321123.3417721519 347812.7155688623], [13, 13, 13, 13, 13, 13, 13, 13, 13, 13  …  6, 6, 6, 6, 6, 6, 6, 6, 6, 6], [3.868603093541992e9, 3.784863740838379e9, 8.956930531298828e7, 6.740235058618164e8, 1.976029744717041e9, 6.258253758146973e8, 1.402054662494873e9, 3.6132858852539062e6, 4.345366158831543e9, 3.3965333364257812e6  …  2.782454939169922e8, 5.595652414916992e9, 2.9773947540195312e9, 1.2777467247363281e8, 4.674976160428711e9, 1.0817732159863281e8, 4.381570026557617e8, 4.130407882919922e8, 5.097647169803223e9, 5.81265660621582e8], [341, 340, 349, 345, 329, 352, 336, 327, 314, 351, 350, 319, 297, 316, 334], [341, 340, 349, 345, 329, 352, 336, 327, 314, 351, 350, 319, 297, 316, 334], 8.917659579893652e12, 5, true)"
      ]
     },
     "execution_count": 4,
     "metadata": {},
     "output_type": "execute_result"
    }
   ],
   "source": [
    "k = 15\n",
    "result = kmeans(S, k)"
   ]
  },
  {
   "cell_type": "code",
   "execution_count": 5,
   "metadata": {},
   "outputs": [],
   "source": [
    "data[!, :cluster] = string.(assignments(result));"
   ]
  },
  {
   "cell_type": "code",
   "execution_count": 6,
   "metadata": {},
   "outputs": [
    {
     "data": {
      "text/plain": [
       "2×15 Array{Float64,2}:\n",
       "      2.44655e5  3.20603e5  858948.0       1.39395e5  …  8.01617e5  1.67856e5\n",
       " 847642.0        1.61522e5       5.4626e5  5.58144e5     3.21123e5  3.47813e5"
      ]
     },
     "execution_count": 6,
     "metadata": {},
     "output_type": "execute_result"
    }
   ],
   "source": [
    "result.centers"
   ]
  },
  {
   "cell_type": "code",
   "execution_count": 7,
   "metadata": {},
   "outputs": [
    {
     "name": "stderr",
     "output_type": "stream",
     "text": [
      "┌ Info: Precompiling Gadfly [c91e804a-d5a3-530f-b6f0-dfbca275c004]\n",
      "└ @ Base loading.jl:1278\n",
      "ERROR: LoadError: LoadError: LoadError: UndefVarError: @printf not defined\n",
      "Stacktrace:\n",
      " [1] top-level scope\n",
      " [2] include(::Function, ::Module, ::String) at .\\Base.jl:380\n",
      " [3] include at .\\Base.jl:368 [inlined]\n",
      " [4] include(::String) at C:\\Users\\Eric\\.julia\\packages\\Optim\\5JqO8\\src\\Optim.jl:18\n",
      " [5] top-level scope at C:\\Users\\Eric\\.julia\\packages\\Optim\\5JqO8\\src\\Optim.jl:106\n",
      " [6] include(::Function, ::Module, ::String) at .\\Base.jl:380\n",
      " [7] include(::Module, ::String) at .\\Base.jl:368\n",
      " [8] top-level scope at none:2\n",
      " [9] eval at .\\boot.jl:331 [inlined]\n",
      " [10] eval(::Expr) at .\\client.jl:467\n",
      " [11] top-level scope at .\\none:3\n",
      "in expression starting at C:\\Users\\Eric\\.julia\\packages\\Optim\\5JqO8\\src\\types.jl:66\n",
      "in expression starting at C:\\Users\\Eric\\.julia\\packages\\Optim\\5JqO8\\src\\types.jl:64\n",
      "in expression starting at C:\\Users\\Eric\\.julia\\packages\\Optim\\5JqO8\\src\\Optim.jl:106\n",
      "ERROR: LoadError: Failed to precompile Optim [429524aa-4258-5aef-a3af-852621145aeb] to C:\\Users\\Eric\\.julia\\compiled\\v1.5\\Optim\\R5uoh_dUJzI.ji.\n",
      "Stacktrace:\n",
      " [1] error(::String) at .\\error.jl:33\n",
      " [2] compilecache(::Base.PkgId, ::String) at .\\loading.jl:1305\n",
      " [3] _require(::Base.PkgId) at .\\loading.jl:1030\n",
      " [4] require(::Base.PkgId) at .\\loading.jl:928\n",
      " [5] require(::Module, ::Symbol) at .\\loading.jl:923\n",
      " [6] include(::Function, ::Module, ::String) at .\\Base.jl:380\n",
      " [7] include(::Module, ::String) at .\\Base.jl:368\n",
      " [8] top-level scope at none:2\n",
      " [9] eval at .\\boot.jl:331 [inlined]\n",
      " [10] eval(::Expr) at .\\client.jl:467\n",
      " [11] top-level scope at .\\none:3\n",
      "in expression starting at C:\\Users\\Eric\\.julia\\packages\\KernelDensity\\JfNeR\\src\\KernelDensity.jl:5\n",
      "ERROR: LoadError: LoadError: Failed to precompile KernelDensity [5ab0869b-81aa-558d-bb23-cbf5423bbe9b] to C:\\Users\\Eric\\.julia\\compiled\\v1.5\\KernelDensity\\4QyGx_dUJzI.ji.\n",
      "Stacktrace:\n",
      " [1] error(::String) at .\\error.jl:33\n",
      " [2] compilecache(::Base.PkgId, ::String) at .\\loading.jl:1305\n",
      " [3] _require(::Base.PkgId) at .\\loading.jl:1030\n",
      " [4] require(::Base.PkgId) at .\\loading.jl:928\n",
      " [5] require(::Module, ::Symbol) at .\\loading.jl:923\n",
      " [6] include(::Function, ::Module, ::String) at .\\Base.jl:380\n",
      " [7] include at .\\Base.jl:368 [inlined]\n",
      " [8] include(::String) at C:\\Users\\Eric\\.julia\\packages\\Gadfly\\cqMtH\\src\\Gadfly.jl:1\n",
      " [9] top-level scope at C:\\Users\\Eric\\.julia\\packages\\Gadfly\\cqMtH\\src\\Gadfly.jl:1111\n",
      " [10] include(::Function, ::Module, ::String) at .\\Base.jl:380\n",
      " [11] include(::Module, ::String) at .\\Base.jl:368\n",
      " [12] top-level scope at none:2\n",
      " [13] eval at .\\boot.jl:331 [inlined]\n",
      " [14] eval(::Expr) at .\\client.jl:467\n",
      " [15] top-level scope at .\\none:3\n",
      "in expression starting at C:\\Users\\Eric\\.julia\\packages\\Gadfly\\cqMtH\\src\\statistics.jl:22\n",
      "in expression starting at C:\\Users\\Eric\\.julia\\packages\\Gadfly\\cqMtH\\src\\Gadfly.jl:1111\n"
     ]
    },
    {
     "ename": "LoadError",
     "evalue": "Failed to precompile Gadfly [c91e804a-d5a3-530f-b6f0-dfbca275c004] to C:\\Users\\Eric\\.julia\\compiled\\v1.5\\Gadfly\\DvECm_dUJzI.ji.",
     "output_type": "error",
     "traceback": [
      "Failed to precompile Gadfly [c91e804a-d5a3-530f-b6f0-dfbca275c004] to C:\\Users\\Eric\\.julia\\compiled\\v1.5\\Gadfly\\DvECm_dUJzI.ji.",
      "",
      "Stacktrace:",
      " [1] error(::String) at .\\error.jl:33",
      " [2] compilecache(::Base.PkgId, ::String) at .\\loading.jl:1305",
      " [3] _require(::Base.PkgId) at .\\loading.jl:1030",
      " [4] require(::Base.PkgId) at .\\loading.jl:928",
      " [5] require(::Module, ::Symbol) at .\\loading.jl:923",
      " [6] include_string(::Function, ::Module, ::String, ::String) at .\\loading.jl:1091"
     ]
    }
   ],
   "source": [
    "using Distances, Gadfly"
   ]
  },
  {
   "cell_type": "code",
   "execution_count": 8,
   "metadata": {},
   "outputs": [
    {
     "ename": "LoadError",
     "evalue": "UndefVarError: plot not defined",
     "output_type": "error",
     "traceback": [
      "UndefVarError: plot not defined",
      "",
      "Stacktrace:",
      " [1] top-level scope at In[8]:1",
      " [2] include_string(::Function, ::Module, ::String, ::String) at .\\loading.jl:1091"
     ]
    }
   ],
   "source": [
    "plot(data, x=\"x\", y=\"y\", color=\"cluster\", Geom.point)"
   ]
  },
  {
   "cell_type": "code",
   "execution_count": null,
   "metadata": {},
   "outputs": [],
   "source": []
  }
 ],
 "metadata": {
  "kernelspec": {
   "display_name": "Julia 1.5.3",
   "language": "julia",
   "name": "julia-1.5"
  },
  "language_info": {
   "file_extension": ".jl",
   "mimetype": "application/julia",
   "name": "julia",
   "version": "1.5.3"
  }
 },
 "nbformat": 4,
 "nbformat_minor": 4
}
