{
 "cells": [
  {
   "cell_type": "code",
   "execution_count": 1,
   "metadata": {},
   "outputs": [],
   "source": [
    "using DataFrames, CSV"
   ]
  },
  {
   "cell_type": "code",
   "execution_count": 2,
   "metadata": {},
   "outputs": [
    {
     "data": {
      "text/html": [
       "<table class=\"data-frame\"><thead><tr><th></th><th>FIPS</th><th>Admin2</th><th>Province_State</th><th>Country_Region</th><th>Last_Update</th><th>Lat</th></tr><tr><th></th><th>String⍰</th><th>String⍰</th><th>String⍰</th><th>String</th><th>String</th><th>String⍰</th></tr></thead><tbody><p>2,570 rows × 12 columns (omitted printing of 6 columns)</p><tr><th>1</th><td>FIPS</td><td>Admin2</td><td>Province_State</td><td>Country_Region</td><td>Last_Update</td><td>Lat</td></tr><tr><th>2</th><td>45001</td><td>Abbeville</td><td>South Carolina</td><td>US</td><td>2020-04-02 23:25:27</td><td>34.22333378</td></tr><tr><th>3</th><td>22001</td><td>Acadia</td><td>Louisiana</td><td>US</td><td>2020-04-02 23:25:27</td><td>30.295064899999996</td></tr><tr><th>4</th><td>51001</td><td>Accomack</td><td>Virginia</td><td>US</td><td>2020-04-02 23:25:27</td><td>37.76707161</td></tr><tr><th>5</th><td>16001</td><td>Ada</td><td>Idaho</td><td>US</td><td>2020-04-02 23:25:27</td><td>43.4526575</td></tr><tr><th>6</th><td>19001</td><td>Adair</td><td>Iowa</td><td>US</td><td>2020-04-02 23:25:27</td><td>41.33075609</td></tr><tr><th>7</th><td>29001</td><td>Adair</td><td>Missouri</td><td>US</td><td>2020-04-02 23:25:27</td><td>40.19058551</td></tr><tr><th>8</th><td>40001</td><td>Adair</td><td>Oklahoma</td><td>US</td><td>2020-04-02 23:25:27</td><td>35.88494195</td></tr><tr><th>9</th><td>08001</td><td>Adams</td><td>Colorado</td><td>US</td><td>2020-04-02 23:25:27</td><td>39.87432092</td></tr><tr><th>10</th><td>16003</td><td>Adams</td><td>Idaho</td><td>US</td><td>2020-04-02 23:25:27</td><td>44.89333571</td></tr><tr><th>11</th><td>17001</td><td>Adams</td><td>Illinois</td><td>US</td><td>2020-04-02 23:25:27</td><td>39.98815591</td></tr><tr><th>12</th><td>18001</td><td>Adams</td><td>Indiana</td><td>US</td><td>2020-04-02 23:25:27</td><td>40.7457653</td></tr><tr><th>13</th><td>28001</td><td>Adams</td><td>Mississippi</td><td>US</td><td>2020-04-02 23:25:27</td><td>31.47669768</td></tr><tr><th>14</th><td>31001</td><td>Adams</td><td>Nebraska</td><td>US</td><td>2020-04-02 23:25:27</td><td>40.52449420000001</td></tr><tr><th>15</th><td>42001</td><td>Adams</td><td>Pennsylvania</td><td>US</td><td>2020-04-02 23:25:27</td><td>39.87140411</td></tr><tr><th>16</th><td>53001</td><td>Adams</td><td>Washington</td><td>US</td><td>2020-04-02 23:25:27</td><td>46.98299757</td></tr><tr><th>17</th><td>55001</td><td>Adams</td><td>Wisconsin</td><td>US</td><td>2020-04-02 23:25:27</td><td>43.96974651</td></tr><tr><th>18</th><td>50001</td><td>Addison</td><td>Vermont</td><td>US</td><td>2020-04-02 23:25:27</td><td>44.03217337</td></tr><tr><th>19</th><td>45003</td><td>Aiken</td><td>South Carolina</td><td>US</td><td>2020-04-02 23:25:27</td><td>33.54338026</td></tr><tr><th>20</th><td>12001</td><td>Alachua</td><td>Florida</td><td>US</td><td>2020-04-02 23:25:27</td><td>29.67866525</td></tr><tr><th>21</th><td>37001</td><td>Alamance</td><td>North Carolina</td><td>US</td><td>2020-04-02 23:25:27</td><td>36.0434701</td></tr><tr><th>22</th><td>06001</td><td>Alameda</td><td>California</td><td>US</td><td>2020-04-02 23:25:27</td><td>37.64629437</td></tr><tr><th>23</th><td>08003</td><td>Alamosa</td><td>Colorado</td><td>US</td><td>2020-04-02 23:25:27</td><td>37.57250606</td></tr><tr><th>24</th><td>36001</td><td>Albany</td><td>New York</td><td>US</td><td>2020-04-02 23:25:27</td><td>42.60060306</td></tr><tr><th>25</th><td>56001</td><td>Albany</td><td>Wyoming</td><td>US</td><td>2020-04-02 23:25:27</td><td>41.65498705</td></tr><tr><th>26</th><td>51003</td><td>Albemarle</td><td>Virginia</td><td>US</td><td>2020-04-02 23:25:27</td><td>38.02080697</td></tr><tr><th>27</th><td>28003</td><td>Alcorn</td><td>Mississippi</td><td>US</td><td>2020-04-02 23:25:27</td><td>34.88084463</td></tr><tr><th>28</th><td>37003</td><td>Alexander</td><td>North Carolina</td><td>US</td><td>2020-04-02 23:25:27</td><td>35.922379600000006</td></tr><tr><th>29</th><td>51510</td><td>Alexandria</td><td>Virginia</td><td>US</td><td>2020-04-02 23:25:27</td><td>38.814003</td></tr><tr><th>30</th><td>19005</td><td>Allamakee</td><td>Iowa</td><td>US</td><td>2020-04-02 23:25:27</td><td>43.28383218</td></tr><tr><th>&vellip;</th><td>&vellip;</td><td>&vellip;</td><td>&vellip;</td><td>&vellip;</td><td>&vellip;</td><td>&vellip;</td></tr></tbody></table>"
      ],
      "text/latex": [
       "\\begin{tabular}{r|ccccccc}\n",
       "\t& FIPS & Admin2 & Province\\_State & Country\\_Region & Last\\_Update & Lat & \\\\\n",
       "\t\\hline\n",
       "\t& String⍰ & String⍰ & String⍰ & String & String & String⍰ & \\\\\n",
       "\t\\hline\n",
       "\t1 & FIPS & Admin2 & Province\\_State & Country\\_Region & Last\\_Update & Lat & $\\dots$ \\\\\n",
       "\t2 & 45001 & Abbeville & South Carolina & US & 2020-04-02 23:25:27 & 34.22333378 & $\\dots$ \\\\\n",
       "\t3 & 22001 & Acadia & Louisiana & US & 2020-04-02 23:25:27 & 30.295064899999996 & $\\dots$ \\\\\n",
       "\t4 & 51001 & Accomack & Virginia & US & 2020-04-02 23:25:27 & 37.76707161 & $\\dots$ \\\\\n",
       "\t5 & 16001 & Ada & Idaho & US & 2020-04-02 23:25:27 & 43.4526575 & $\\dots$ \\\\\n",
       "\t6 & 19001 & Adair & Iowa & US & 2020-04-02 23:25:27 & 41.33075609 & $\\dots$ \\\\\n",
       "\t7 & 29001 & Adair & Missouri & US & 2020-04-02 23:25:27 & 40.19058551 & $\\dots$ \\\\\n",
       "\t8 & 40001 & Adair & Oklahoma & US & 2020-04-02 23:25:27 & 35.88494195 & $\\dots$ \\\\\n",
       "\t9 & 08001 & Adams & Colorado & US & 2020-04-02 23:25:27 & 39.87432092 & $\\dots$ \\\\\n",
       "\t10 & 16003 & Adams & Idaho & US & 2020-04-02 23:25:27 & 44.89333571 & $\\dots$ \\\\\n",
       "\t11 & 17001 & Adams & Illinois & US & 2020-04-02 23:25:27 & 39.98815591 & $\\dots$ \\\\\n",
       "\t12 & 18001 & Adams & Indiana & US & 2020-04-02 23:25:27 & 40.7457653 & $\\dots$ \\\\\n",
       "\t13 & 28001 & Adams & Mississippi & US & 2020-04-02 23:25:27 & 31.47669768 & $\\dots$ \\\\\n",
       "\t14 & 31001 & Adams & Nebraska & US & 2020-04-02 23:25:27 & 40.52449420000001 & $\\dots$ \\\\\n",
       "\t15 & 42001 & Adams & Pennsylvania & US & 2020-04-02 23:25:27 & 39.87140411 & $\\dots$ \\\\\n",
       "\t16 & 53001 & Adams & Washington & US & 2020-04-02 23:25:27 & 46.98299757 & $\\dots$ \\\\\n",
       "\t17 & 55001 & Adams & Wisconsin & US & 2020-04-02 23:25:27 & 43.96974651 & $\\dots$ \\\\\n",
       "\t18 & 50001 & Addison & Vermont & US & 2020-04-02 23:25:27 & 44.03217337 & $\\dots$ \\\\\n",
       "\t19 & 45003 & Aiken & South Carolina & US & 2020-04-02 23:25:27 & 33.54338026 & $\\dots$ \\\\\n",
       "\t20 & 12001 & Alachua & Florida & US & 2020-04-02 23:25:27 & 29.67866525 & $\\dots$ \\\\\n",
       "\t21 & 37001 & Alamance & North Carolina & US & 2020-04-02 23:25:27 & 36.0434701 & $\\dots$ \\\\\n",
       "\t22 & 06001 & Alameda & California & US & 2020-04-02 23:25:27 & 37.64629437 & $\\dots$ \\\\\n",
       "\t23 & 08003 & Alamosa & Colorado & US & 2020-04-02 23:25:27 & 37.57250606 & $\\dots$ \\\\\n",
       "\t24 & 36001 & Albany & New York & US & 2020-04-02 23:25:27 & 42.60060306 & $\\dots$ \\\\\n",
       "\t25 & 56001 & Albany & Wyoming & US & 2020-04-02 23:25:27 & 41.65498705 & $\\dots$ \\\\\n",
       "\t26 & 51003 & Albemarle & Virginia & US & 2020-04-02 23:25:27 & 38.02080697 & $\\dots$ \\\\\n",
       "\t27 & 28003 & Alcorn & Mississippi & US & 2020-04-02 23:25:27 & 34.88084463 & $\\dots$ \\\\\n",
       "\t28 & 37003 & Alexander & North Carolina & US & 2020-04-02 23:25:27 & 35.922379600000006 & $\\dots$ \\\\\n",
       "\t29 & 51510 & Alexandria & Virginia & US & 2020-04-02 23:25:27 & 38.814003 & $\\dots$ \\\\\n",
       "\t30 & 19005 & Allamakee & Iowa & US & 2020-04-02 23:25:27 & 43.28383218 & $\\dots$ \\\\\n",
       "\t$\\dots$ & $\\dots$ & $\\dots$ & $\\dots$ & $\\dots$ & $\\dots$ & $\\dots$ &  \\\\\n",
       "\\end{tabular}\n"
      ],
      "text/plain": [
       "2570×12 DataFrame. Omitted printing of 8 columns\n",
       "│ Row  │ FIPS    │ Admin2     │ Province_State │ Country_Region       │\n",
       "│      │ \u001b[90mString⍰\u001b[39m │ \u001b[90mString⍰\u001b[39m    │ \u001b[90mString⍰\u001b[39m        │ \u001b[90mString\u001b[39m               │\n",
       "├──────┼─────────┼────────────┼────────────────┼──────────────────────┤\n",
       "│ 1    │ FIPS    │ Admin2     │ Province_State │ Country_Region       │\n",
       "│ 2    │ 45001   │ Abbeville  │ South Carolina │ US                   │\n",
       "│ 3    │ 22001   │ Acadia     │ Louisiana      │ US                   │\n",
       "│ 4    │ 51001   │ Accomack   │ Virginia       │ US                   │\n",
       "│ 5    │ 16001   │ Ada        │ Idaho          │ US                   │\n",
       "│ 6    │ 19001   │ Adair      │ Iowa           │ US                   │\n",
       "│ 7    │ 29001   │ Adair      │ Missouri       │ US                   │\n",
       "│ 8    │ 40001   │ Adair      │ Oklahoma       │ US                   │\n",
       "│ 9    │ 08001   │ Adams      │ Colorado       │ US                   │\n",
       "│ 10   │ 16003   │ Adams      │ Idaho          │ US                   │\n",
       "⋮\n",
       "│ 2560 │ \u001b[90mmissing\u001b[39m │ \u001b[90mmissing\u001b[39m    │ \u001b[90mmissing\u001b[39m        │ Ukraine              │\n",
       "│ 2561 │ \u001b[90mmissing\u001b[39m │ \u001b[90mmissing\u001b[39m    │ \u001b[90mmissing\u001b[39m        │ United Arab Emirates │\n",
       "│ 2562 │ \u001b[90mmissing\u001b[39m │ \u001b[90mmissing\u001b[39m    │ \u001b[90mmissing\u001b[39m        │ United Kingdom       │\n",
       "│ 2563 │ \u001b[90mmissing\u001b[39m │ \u001b[90mmissing\u001b[39m    │ \u001b[90mmissing\u001b[39m        │ Uruguay              │\n",
       "│ 2564 │ \u001b[90mmissing\u001b[39m │ \u001b[90mmissing\u001b[39m    │ \u001b[90mmissing\u001b[39m        │ Uzbekistan           │\n",
       "│ 2565 │ \u001b[90mmissing\u001b[39m │ \u001b[90mmissing\u001b[39m    │ \u001b[90mmissing\u001b[39m        │ Venezuela            │\n",
       "│ 2566 │ \u001b[90mmissing\u001b[39m │ \u001b[90mmissing\u001b[39m    │ \u001b[90mmissing\u001b[39m        │ Vietnam              │\n",
       "│ 2567 │ \u001b[90mmissing\u001b[39m │ \u001b[90mmissing\u001b[39m    │ \u001b[90mmissing\u001b[39m        │ West Bank and Gaza   │\n",
       "│ 2568 │ \u001b[90mmissing\u001b[39m │ \u001b[90mmissing\u001b[39m    │ \u001b[90mmissing\u001b[39m        │ Zambia               │\n",
       "│ 2569 │ \u001b[90mmissing\u001b[39m │ \u001b[90mmissing\u001b[39m    │ \u001b[90mmissing\u001b[39m        │ Zimbabwe             │\n",
       "│ 2570 │ \u001b[90mmissing\u001b[39m │ unassigned │ Wyoming        │ US                   │"
      ]
     },
     "execution_count": 2,
     "metadata": {},
     "output_type": "execute_result"
    }
   ],
   "source": [
    "df = CSV.read(\"04-02-2020.csv\", header=[\"FIPS\",\"Admin2\",\"Province_State\",\"Country_Region\",\"Last_Update\",\"Lat\",\"Long_\",\"Confirmed\",\"Deaths\",\"Recovered\",\"Active\",\"Combined_Key\"], delim=\",\")"
   ]
  },
  {
   "cell_type": "code",
   "execution_count": 3,
   "metadata": {},
   "outputs": [
    {
     "data": {
      "text/plain": [
       "(2570, 12)"
      ]
     },
     "execution_count": 3,
     "metadata": {},
     "output_type": "execute_result"
    }
   ],
   "source": [
    "size(df)"
   ]
  },
  {
   "cell_type": "code",
   "execution_count": 4,
   "metadata": {},
   "outputs": [
    {
     "data": {
      "text/html": [
       "<table class=\"data-frame\"><thead><tr><th></th><th>variable</th><th>mean</th><th>min</th><th>median</th><th>max</th></tr><tr><th></th><th>Symbol</th><th>Nothing</th><th>String</th><th>Nothing</th><th>String</th></tr></thead><tbody><p>12 rows × 8 columns (omitted printing of 3 columns)</p><tr><th>1</th><td>FIPS</td><td></td><td>00066</td><td></td><td>FIPS</td></tr><tr><th>2</th><td>Admin2</td><td></td><td>Abbeville</td><td></td><td>unassigned</td></tr><tr><th>3</th><td>Province_State</td><td></td><td>Alabama</td><td></td><td>Zhejiang</td></tr><tr><th>4</th><td>Country_Region</td><td></td><td>Afghanistan</td><td></td><td>Zimbabwe</td></tr><tr><th>5</th><td>Last_Update</td><td></td><td>2020-02-23 11:19:02</td><td></td><td>Last_Update</td></tr><tr><th>6</th><td>Lat</td><td></td><td>-0.0236</td><td></td><td>Lat</td></tr><tr><th>7</th><td>Long_</td><td></td><td>-1.0232</td><td></td><td>Long_</td></tr><tr><th>8</th><td>Confirmed</td><td></td><td>0</td><td></td><td>Confirmed</td></tr><tr><th>9</th><td>Deaths</td><td></td><td>0</td><td></td><td>Deaths</td></tr><tr><th>10</th><td>Recovered</td><td></td><td>0</td><td></td><td>Recovered</td></tr><tr><th>11</th><td>Active</td><td></td><td>0</td><td></td><td>Active</td></tr><tr><th>12</th><td>Combined_Key</td><td></td><td>,,Belize</td><td></td><td>unassigned, Wyoming, US</td></tr></tbody></table>"
      ],
      "text/latex": [
       "\\begin{tabular}{r|cccccc}\n",
       "\t& variable & mean & min & median & max & \\\\\n",
       "\t\\hline\n",
       "\t& Symbol & Nothing & String & Nothing & String & \\\\\n",
       "\t\\hline\n",
       "\t1 & FIPS &  & 00066 &  & FIPS & $\\dots$ \\\\\n",
       "\t2 & Admin2 &  & Abbeville &  & unassigned & $\\dots$ \\\\\n",
       "\t3 & Province\\_State &  & Alabama &  & Zhejiang & $\\dots$ \\\\\n",
       "\t4 & Country\\_Region &  & Afghanistan &  & Zimbabwe & $\\dots$ \\\\\n",
       "\t5 & Last\\_Update &  & 2020-02-23 11:19:02 &  & Last\\_Update & $\\dots$ \\\\\n",
       "\t6 & Lat &  & -0.0236 &  & Lat & $\\dots$ \\\\\n",
       "\t7 & Long\\_ &  & -1.0232 &  & Long\\_ & $\\dots$ \\\\\n",
       "\t8 & Confirmed &  & 0 &  & Confirmed & $\\dots$ \\\\\n",
       "\t9 & Deaths &  & 0 &  & Deaths & $\\dots$ \\\\\n",
       "\t10 & Recovered &  & 0 &  & Recovered & $\\dots$ \\\\\n",
       "\t11 & Active &  & 0 &  & Active & $\\dots$ \\\\\n",
       "\t12 & Combined\\_Key &  & ,,Belize &  & unassigned, Wyoming, US & $\\dots$ \\\\\n",
       "\\end{tabular}\n"
      ],
      "text/plain": [
       "12×8 DataFrame. Omitted printing of 4 columns\n",
       "│ Row │ variable       │ mean    │ min                 │ median  │\n",
       "│     │ \u001b[90mSymbol\u001b[39m         │ \u001b[90mNothing\u001b[39m │ \u001b[90mString\u001b[39m              │ \u001b[90mNothing\u001b[39m │\n",
       "├─────┼────────────────┼─────────┼─────────────────────┼─────────┤\n",
       "│ 1   │ FIPS           │         │ 00066               │         │\n",
       "│ 2   │ Admin2         │         │ Abbeville           │         │\n",
       "│ 3   │ Province_State │         │ Alabama             │         │\n",
       "│ 4   │ Country_Region │         │ Afghanistan         │         │\n",
       "│ 5   │ Last_Update    │         │ 2020-02-23 11:19:02 │         │\n",
       "│ 6   │ Lat            │         │ -0.0236             │         │\n",
       "│ 7   │ Long_          │         │ -1.0232             │         │\n",
       "│ 8   │ Confirmed      │         │ 0                   │         │\n",
       "│ 9   │ Deaths         │         │ 0                   │         │\n",
       "│ 10  │ Recovered      │         │ 0                   │         │\n",
       "│ 11  │ Active         │         │ 0                   │         │\n",
       "│ 12  │ Combined_Key   │         │ ,,Belize            │         │"
      ]
     },
     "execution_count": 4,
     "metadata": {},
     "output_type": "execute_result"
    }
   ],
   "source": [
    "describe(df)"
   ]
  },
  {
   "cell_type": "code",
   "execution_count": 5,
   "metadata": {},
   "outputs": [
    {
     "data": {
      "text/plain": [
       "2569-element Array{String,1}:\n",
       " \"6\"\n",
       " \"61\"\n",
       " \"10\"\n",
       " \"312\"\n",
       " \"1\"\n",
       " \"6\"\n",
       " \"9\"\n",
       " \"212\"\n",
       " \"1\"\n",
       " \"2\"\n",
       " \"1\"\n",
       " \"14\"\n",
       " \"6\"\n",
       " ⋮\n",
       " \"45\"\n",
       " \"897\"\n",
       " \"1024\"\n",
       " \"33718\"\n",
       " \"350\"\n",
       " \"205\"\n",
       " \"146\"\n",
       " \"233\"\n",
       " \"161\"\n",
       " \"39\"\n",
       " \"9\"\n",
       " \"0\""
      ]
     },
     "execution_count": 5,
     "metadata": {},
     "output_type": "execute_result"
    }
   ],
   "source": [
    "x=df.Confirmed[2:2570]"
   ]
  },
  {
   "cell_type": "code",
   "execution_count": 6,
   "metadata": {},
   "outputs": [
    {
     "data": {
      "text/plain": [
       "2569-element Array{String,1}:\n",
       " \"0\"\n",
       " \"1\"\n",
       " \"0\"\n",
       " \"3\"\n",
       " \"0\"\n",
       " \"0\"\n",
       " \"0\"\n",
       " \"2\"\n",
       " \"0\"\n",
       " \"0\"\n",
       " \"0\"\n",
       " \"0\"\n",
       " \"0\"\n",
       " ⋮\n",
       " \"0\"\n",
       " \"22\"\n",
       " \"8\"\n",
       " \"2921\"\n",
       " \"4\"\n",
       " \"2\"\n",
       " \"5\"\n",
       " \"0\"\n",
       " \"1\"\n",
       " \"1\"\n",
       " \"1\"\n",
       " \"0\""
      ]
     },
     "execution_count": 6,
     "metadata": {},
     "output_type": "execute_result"
    }
   ],
   "source": [
    "y=df.Deaths[2:2570]"
   ]
  },
  {
   "cell_type": "code",
   "execution_count": 7,
   "metadata": {},
   "outputs": [
    {
     "data": {
      "text/plain": [
       "2569-element Array{String,1}:\n",
       " \"0\"\n",
       " \"0\"\n",
       " \"0\"\n",
       " \"0\"\n",
       " \"0\"\n",
       " \"0\"\n",
       " \"0\"\n",
       " \"0\"\n",
       " \"0\"\n",
       " \"0\"\n",
       " \"0\"\n",
       " \"0\"\n",
       " \"0\"\n",
       " ⋮\n",
       " \"0\"\n",
       " \"19\"\n",
       " \"96\"\n",
       " \"135\"\n",
       " \"62\"\n",
       " \"25\"\n",
       " \"43\"\n",
       " \"75\"\n",
       " \"18\"\n",
       " \"0\"\n",
       " \"0\"\n",
       " \"0\""
      ]
     },
     "execution_count": 7,
     "metadata": {},
     "output_type": "execute_result"
    }
   ],
   "source": [
    "z=df.Recovered[2:2570]"
   ]
  },
  {
   "cell_type": "code",
   "execution_count": 8,
   "metadata": {},
   "outputs": [
    {
     "data": {
      "text/plain": [
       "\"339\""
      ]
     },
     "execution_count": 8,
     "metadata": {},
     "output_type": "execute_result"
    }
   ],
   "source": [
    "a=df[2551,8]"
   ]
  },
  {
   "cell_type": "code",
   "execution_count": 9,
   "metadata": {},
   "outputs": [
    {
     "data": {
      "text/plain": [
       "\"5\""
      ]
     },
     "execution_count": 9,
     "metadata": {},
     "output_type": "execute_result"
    }
   ],
   "source": [
    "b=df[2551,9]"
   ]
  },
  {
   "cell_type": "code",
   "execution_count": 10,
   "metadata": {},
   "outputs": [
    {
     "data": {
      "text/plain": [
       "\"45\""
      ]
     },
     "execution_count": 10,
     "metadata": {},
     "output_type": "execute_result"
    }
   ],
   "source": [
    "c=df[2551,10]"
   ]
  },
  {
   "cell_type": "code",
   "execution_count": null,
   "metadata": {},
   "outputs": [],
   "source": []
  }
 ],
 "metadata": {
  "kernelspec": {
   "display_name": "Julia 1.5.3",
   "language": "julia",
   "name": "julia-1.5"
  },
  "language_info": {
   "file_extension": ".jl",
   "mimetype": "application/julia",
   "name": "julia",
   "version": "1.5.3"
  }
 },
 "nbformat": 4,
 "nbformat_minor": 4
}
