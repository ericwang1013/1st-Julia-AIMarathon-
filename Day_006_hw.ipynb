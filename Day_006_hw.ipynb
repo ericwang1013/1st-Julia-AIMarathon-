{
 "cells": [
  {
   "cell_type": "code",
   "execution_count": 1,
   "metadata": {},
   "outputs": [
    {
     "data": {
      "text/plain": [
       "BMI (generic function with 1 method)"
      ]
     },
     "execution_count": 1,
     "metadata": {},
     "output_type": "execute_result"
    }
   ],
   "source": [
    "function BMI(x::Float64, y::Float64)::Float64\n",
    "    x / (y^2)\n",
    "end"
   ]
  },
  {
   "cell_type": "code",
   "execution_count": 3,
   "metadata": {},
   "outputs": [
    {
     "name": "stdout",
     "output_type": "stream",
     "text": [
      "體重=70.5公斤, 身高=170.2公分, BMI值為:0.0024337166063012894\n"
     ]
    }
   ],
   "source": [
    "println(\"體重=70.5公斤, 身高=170.2公分, BMI值為:\", BMI(70.5, 170.2))"
   ]
  },
  {
   "cell_type": "code",
   "execution_count": 4,
   "metadata": {},
   "outputs": [
    {
     "name": "stdout",
     "output_type": "stream",
     "text": [
      "體重=45.3公斤, 身高=165.7公分, BMI值為:0.00164988314238273\n"
     ]
    }
   ],
   "source": [
    "println(\"體重=45.3公斤, 身高=165.7公分, BMI值為:\", BMI(45.3, 165.7))"
   ]
  },
  {
   "cell_type": "code",
   "execution_count": null,
   "metadata": {},
   "outputs": [],
   "source": []
  }
 ],
 "metadata": {
  "kernelspec": {
   "display_name": "Julia 1.5.3",
   "language": "julia",
   "name": "julia-1.5"
  },
  "language_info": {
   "file_extension": ".jl",
   "mimetype": "application/julia",
   "name": "julia",
   "version": "1.5.3"
  }
 },
 "nbformat": 4,
 "nbformat_minor": 4
}
