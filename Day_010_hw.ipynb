{
 "cells": [
  {
   "cell_type": "code",
   "execution_count": 1,
   "metadata": {},
   "outputs": [
    {
     "data": {
      "text/plain": [
       "\"永和有永和路，中和也有永和路，\\n中和有中和路，永和也有中和路；\\n中和的中和路有接永和的中和路，\\n永和的永和路沒接中和的永和路；\\n永和的中和路有接永和的永和路，\\n中和的永和路沒接中和的中和路。\""
      ]
     },
     "execution_count": 1,
     "metadata": {},
     "output_type": "execute_result"
    }
   ],
   "source": [
    "str = \"永和有永和路，中和也有永和路，\n",
    "中和有中和路，永和也有中和路；\n",
    "中和的中和路有接永和的中和路，\n",
    "永和的永和路沒接中和的永和路；\n",
    "永和的中和路有接永和的永和路，\n",
    "中和的永和路沒接中和的中和路。\""
   ]
  },
  {
   "cell_type": "code",
   "execution_count": 2,
   "metadata": {},
   "outputs": [],
   "source": [
    "cdata = ['永','和','有','永','和','路','，','中','和','也','有','永','和','路','，','\\n',\n",
    "'中','和','有','中','和','路','，','永','和','也','有','中','和','路','；','\\n',\n",
    "'中','和','的','中','和','路','有','接','永','和','的','中','和','路','，','\\n',\n",
    "'永','和','的','永','和','路','沒','接','中','和','的','永','和','路','；','\\n',\n",
    "'永','和','的','中','和','路','有','接','永','和','的','永','和','路','，','\\n',\n",
    "'中','和','的','永','和','路','沒','接','中','和','的','中','和','路','。']\n",
    "words = Dict{Char, Int64}()\n",
    "for w in cdata\n",
    "    if w in keys(words)\n",
    "        words[w] += 1\n",
    "    else\n",
    "        words[w] = 1\n",
    "    end\n",
    "end"
   ]
  },
  {
   "cell_type": "code",
   "execution_count": 3,
   "metadata": {},
   "outputs": [
    {
     "data": {
      "text/plain": [
       "Dict{Char,Int64} with 13 entries:\n",
       "  '和'  => 24\n",
       "  '有'  => 6\n",
       "  '路'  => 12\n",
       "  '。'  => 1\n",
       "  '中'  => 12\n",
       "  '也'  => 2\n",
       "  '\\n' => 5\n",
       "  '，'  => 5\n",
       "  '接'  => 4\n",
       "  '的'  => 8\n",
       "  '沒'  => 2\n",
       "  '；'  => 2\n",
       "  '永'  => 12"
      ]
     },
     "execution_count": 3,
     "metadata": {},
     "output_type": "execute_result"
    }
   ],
   "source": [
    "words"
   ]
  },
  {
   "cell_type": "code",
   "execution_count": null,
   "metadata": {},
   "outputs": [],
   "source": []
  }
 ],
 "metadata": {
  "kernelspec": {
   "display_name": "Julia 1.5.3",
   "language": "julia",
   "name": "julia-1.5"
  },
  "language_info": {
   "file_extension": ".jl",
   "mimetype": "application/julia",
   "name": "julia",
   "version": "1.5.3"
  }
 },
 "nbformat": 4,
 "nbformat_minor": 4
}
