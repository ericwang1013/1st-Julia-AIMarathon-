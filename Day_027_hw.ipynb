{
 "cells": [
  {
   "cell_type": "code",
   "execution_count": 1,
   "metadata": {},
   "outputs": [],
   "source": [
    "using GLM, RDatasets, MLDataUtils"
   ]
  },
  {
   "cell_type": "code",
   "execution_count": 2,
   "metadata": {},
   "outputs": [
    {
     "data": {
      "text/html": [
       "<table class=\"data-frame\"><thead><tr><th></th><th>Crim</th><th>Zn</th><th>Indus</th><th>Chas</th><th>NOx</th><th>Rm</th><th>Age</th><th>Dis</th><th>Rad</th><th>Tax</th></tr><tr><th></th><th>Float64</th><th>Float64</th><th>Float64</th><th>Int64</th><th>Float64</th><th>Float64</th><th>Float64</th><th>Float64</th><th>Int64</th><th>Int64</th></tr></thead><tbody><p>10 rows × 14 columns (omitted printing of 4 columns)</p><tr><th>1</th><td>0.00632</td><td>18.0</td><td>2.31</td><td>0</td><td>0.538</td><td>6.575</td><td>65.2</td><td>4.09</td><td>1</td><td>296</td></tr><tr><th>2</th><td>0.02731</td><td>0.0</td><td>7.07</td><td>0</td><td>0.469</td><td>6.421</td><td>78.9</td><td>4.9671</td><td>2</td><td>242</td></tr><tr><th>3</th><td>0.02729</td><td>0.0</td><td>7.07</td><td>0</td><td>0.469</td><td>7.185</td><td>61.1</td><td>4.9671</td><td>2</td><td>242</td></tr><tr><th>4</th><td>0.03237</td><td>0.0</td><td>2.18</td><td>0</td><td>0.458</td><td>6.998</td><td>45.8</td><td>6.0622</td><td>3</td><td>222</td></tr><tr><th>5</th><td>0.06905</td><td>0.0</td><td>2.18</td><td>0</td><td>0.458</td><td>7.147</td><td>54.2</td><td>6.0622</td><td>3</td><td>222</td></tr><tr><th>6</th><td>0.02985</td><td>0.0</td><td>2.18</td><td>0</td><td>0.458</td><td>6.43</td><td>58.7</td><td>6.0622</td><td>3</td><td>222</td></tr><tr><th>7</th><td>0.08829</td><td>12.5</td><td>7.87</td><td>0</td><td>0.524</td><td>6.012</td><td>66.6</td><td>5.5605</td><td>5</td><td>311</td></tr><tr><th>8</th><td>0.14455</td><td>12.5</td><td>7.87</td><td>0</td><td>0.524</td><td>6.172</td><td>96.1</td><td>5.9505</td><td>5</td><td>311</td></tr><tr><th>9</th><td>0.21124</td><td>12.5</td><td>7.87</td><td>0</td><td>0.524</td><td>5.631</td><td>100.0</td><td>6.0821</td><td>5</td><td>311</td></tr><tr><th>10</th><td>0.17004</td><td>12.5</td><td>7.87</td><td>0</td><td>0.524</td><td>6.004</td><td>85.9</td><td>6.5921</td><td>5</td><td>311</td></tr></tbody></table>"
      ],
      "text/latex": [
       "\\begin{tabular}{r|ccccccccccc}\n",
       "\t& Crim & Zn & Indus & Chas & NOx & Rm & Age & Dis & Rad & Tax & \\\\\n",
       "\t\\hline\n",
       "\t& Float64 & Float64 & Float64 & Int64 & Float64 & Float64 & Float64 & Float64 & Int64 & Int64 & \\\\\n",
       "\t\\hline\n",
       "\t1 & 0.00632 & 18.0 & 2.31 & 0 & 0.538 & 6.575 & 65.2 & 4.09 & 1 & 296 & $\\dots$ \\\\\n",
       "\t2 & 0.02731 & 0.0 & 7.07 & 0 & 0.469 & 6.421 & 78.9 & 4.9671 & 2 & 242 & $\\dots$ \\\\\n",
       "\t3 & 0.02729 & 0.0 & 7.07 & 0 & 0.469 & 7.185 & 61.1 & 4.9671 & 2 & 242 & $\\dots$ \\\\\n",
       "\t4 & 0.03237 & 0.0 & 2.18 & 0 & 0.458 & 6.998 & 45.8 & 6.0622 & 3 & 222 & $\\dots$ \\\\\n",
       "\t5 & 0.06905 & 0.0 & 2.18 & 0 & 0.458 & 7.147 & 54.2 & 6.0622 & 3 & 222 & $\\dots$ \\\\\n",
       "\t6 & 0.02985 & 0.0 & 2.18 & 0 & 0.458 & 6.43 & 58.7 & 6.0622 & 3 & 222 & $\\dots$ \\\\\n",
       "\t7 & 0.08829 & 12.5 & 7.87 & 0 & 0.524 & 6.012 & 66.6 & 5.5605 & 5 & 311 & $\\dots$ \\\\\n",
       "\t8 & 0.14455 & 12.5 & 7.87 & 0 & 0.524 & 6.172 & 96.1 & 5.9505 & 5 & 311 & $\\dots$ \\\\\n",
       "\t9 & 0.21124 & 12.5 & 7.87 & 0 & 0.524 & 5.631 & 100.0 & 6.0821 & 5 & 311 & $\\dots$ \\\\\n",
       "\t10 & 0.17004 & 12.5 & 7.87 & 0 & 0.524 & 6.004 & 85.9 & 6.5921 & 5 & 311 & $\\dots$ \\\\\n",
       "\\end{tabular}\n"
      ],
      "text/plain": [
       "10×14 DataFrame. Omitted printing of 7 columns\n",
       "│ Row │ Crim    │ Zn      │ Indus   │ Chas  │ NOx     │ Rm      │ Age     │\n",
       "│     │ \u001b[90mFloat64\u001b[39m │ \u001b[90mFloat64\u001b[39m │ \u001b[90mFloat64\u001b[39m │ \u001b[90mInt64\u001b[39m │ \u001b[90mFloat64\u001b[39m │ \u001b[90mFloat64\u001b[39m │ \u001b[90mFloat64\u001b[39m │\n",
       "├─────┼─────────┼─────────┼─────────┼───────┼─────────┼─────────┼─────────┤\n",
       "│ 1   │ 0.00632 │ 18.0    │ 2.31    │ 0     │ 0.538   │ 6.575   │ 65.2    │\n",
       "│ 2   │ 0.02731 │ 0.0     │ 7.07    │ 0     │ 0.469   │ 6.421   │ 78.9    │\n",
       "│ 3   │ 0.02729 │ 0.0     │ 7.07    │ 0     │ 0.469   │ 7.185   │ 61.1    │\n",
       "│ 4   │ 0.03237 │ 0.0     │ 2.18    │ 0     │ 0.458   │ 6.998   │ 45.8    │\n",
       "│ 5   │ 0.06905 │ 0.0     │ 2.18    │ 0     │ 0.458   │ 7.147   │ 54.2    │\n",
       "│ 6   │ 0.02985 │ 0.0     │ 2.18    │ 0     │ 0.458   │ 6.43    │ 58.7    │\n",
       "│ 7   │ 0.08829 │ 12.5    │ 7.87    │ 0     │ 0.524   │ 6.012   │ 66.6    │\n",
       "│ 8   │ 0.14455 │ 12.5    │ 7.87    │ 0     │ 0.524   │ 6.172   │ 96.1    │\n",
       "│ 9   │ 0.21124 │ 12.5    │ 7.87    │ 0     │ 0.524   │ 5.631   │ 100.0   │\n",
       "│ 10  │ 0.17004 │ 12.5    │ 7.87    │ 0     │ 0.524   │ 6.004   │ 85.9    │"
      ]
     },
     "execution_count": 2,
     "metadata": {},
     "output_type": "execute_result"
    }
   ],
   "source": [
    "boston = dataset(\"MASS\", \"Boston\")\n",
    "first(boston, 10)"
   ]
  },
  {
   "cell_type": "code",
   "execution_count": 3,
   "metadata": {},
   "outputs": [],
   "source": [
    "indecies = MLDataUtils.shuffleobs(collect(1:nrow(boston)))\n",
    "train_ind, test_ind = MLDataUtils.splitobs(indecies, at = 0.8);"
   ]
  },
  {
   "cell_type": "code",
   "execution_count": 4,
   "metadata": {},
   "outputs": [
    {
     "data": {
      "text/html": [
       "<table class=\"data-frame\"><thead><tr><th></th><th>Crim</th><th>Zn</th><th>Indus</th><th>Chas</th><th>NOx</th><th>Rm</th><th>Age</th><th>Dis</th><th>Rad</th><th>Tax</th></tr><tr><th></th><th>Float64</th><th>Float64</th><th>Float64</th><th>Int64</th><th>Float64</th><th>Float64</th><th>Float64</th><th>Float64</th><th>Int64</th><th>Int64</th></tr></thead><tbody><p>101 rows × 14 columns (omitted printing of 4 columns)</p><tr><th>1</th><td>4.54192</td><td>0.0</td><td>18.1</td><td>0</td><td>0.77</td><td>6.398</td><td>88.0</td><td>2.5182</td><td>24</td><td>666</td></tr><tr><th>2</th><td>0.07022</td><td>0.0</td><td>4.05</td><td>0</td><td>0.51</td><td>6.02</td><td>47.2</td><td>3.5549</td><td>5</td><td>296</td></tr><tr><th>3</th><td>0.10574</td><td>0.0</td><td>27.74</td><td>0</td><td>0.609</td><td>5.983</td><td>98.8</td><td>1.8681</td><td>4</td><td>711</td></tr><tr><th>4</th><td>0.06151</td><td>0.0</td><td>5.19</td><td>0</td><td>0.515</td><td>5.968</td><td>58.5</td><td>4.8122</td><td>5</td><td>224</td></tr><tr><th>5</th><td>0.12329</td><td>0.0</td><td>10.01</td><td>0</td><td>0.547</td><td>5.913</td><td>92.9</td><td>2.3534</td><td>6</td><td>432</td></tr><tr><th>6</th><td>0.11027</td><td>25.0</td><td>5.13</td><td>0</td><td>0.453</td><td>6.456</td><td>67.8</td><td>7.2255</td><td>8</td><td>284</td></tr><tr><th>7</th><td>0.10328</td><td>25.0</td><td>5.13</td><td>0</td><td>0.453</td><td>5.927</td><td>47.2</td><td>6.932</td><td>8</td><td>284</td></tr><tr><th>8</th><td>14.0507</td><td>0.0</td><td>18.1</td><td>0</td><td>0.597</td><td>6.657</td><td>100.0</td><td>1.5275</td><td>24</td><td>666</td></tr><tr><th>9</th><td>0.41238</td><td>0.0</td><td>6.2</td><td>0</td><td>0.504</td><td>7.163</td><td>79.9</td><td>3.2157</td><td>8</td><td>307</td></tr><tr><th>10</th><td>1.12658</td><td>0.0</td><td>19.58</td><td>1</td><td>0.871</td><td>5.012</td><td>88.0</td><td>1.6102</td><td>5</td><td>403</td></tr><tr><th>11</th><td>0.01951</td><td>17.5</td><td>1.38</td><td>0</td><td>0.4161</td><td>7.104</td><td>59.5</td><td>9.2229</td><td>3</td><td>216</td></tr><tr><th>12</th><td>0.28392</td><td>0.0</td><td>7.38</td><td>0</td><td>0.493</td><td>5.708</td><td>74.3</td><td>4.7211</td><td>5</td><td>287</td></tr><tr><th>13</th><td>0.5405</td><td>20.0</td><td>3.97</td><td>0</td><td>0.575</td><td>7.47</td><td>52.6</td><td>2.872</td><td>5</td><td>264</td></tr><tr><th>14</th><td>0.05083</td><td>0.0</td><td>5.19</td><td>0</td><td>0.515</td><td>6.316</td><td>38.1</td><td>6.4584</td><td>5</td><td>224</td></tr><tr><th>15</th><td>0.12579</td><td>45.0</td><td>3.44</td><td>0</td><td>0.437</td><td>6.556</td><td>29.1</td><td>4.5667</td><td>5</td><td>398</td></tr><tr><th>16</th><td>0.14932</td><td>25.0</td><td>5.13</td><td>0</td><td>0.453</td><td>5.741</td><td>66.2</td><td>7.2254</td><td>8</td><td>284</td></tr><tr><th>17</th><td>0.12204</td><td>0.0</td><td>2.89</td><td>0</td><td>0.445</td><td>6.625</td><td>57.8</td><td>3.4952</td><td>2</td><td>276</td></tr><tr><th>18</th><td>0.06466</td><td>70.0</td><td>2.24</td><td>0</td><td>0.4</td><td>6.345</td><td>20.1</td><td>7.8278</td><td>5</td><td>358</td></tr><tr><th>19</th><td>5.70818</td><td>0.0</td><td>18.1</td><td>0</td><td>0.532</td><td>6.75</td><td>74.9</td><td>3.3317</td><td>24</td><td>666</td></tr><tr><th>20</th><td>2.73397</td><td>0.0</td><td>19.58</td><td>0</td><td>0.871</td><td>5.597</td><td>94.9</td><td>1.5257</td><td>5</td><td>403</td></tr><tr><th>21</th><td>11.1604</td><td>0.0</td><td>18.1</td><td>0</td><td>0.74</td><td>6.629</td><td>94.6</td><td>2.1247</td><td>24</td><td>666</td></tr><tr><th>22</th><td>19.6091</td><td>0.0</td><td>18.1</td><td>0</td><td>0.671</td><td>7.313</td><td>97.9</td><td>1.3163</td><td>24</td><td>666</td></tr><tr><th>23</th><td>0.10008</td><td>0.0</td><td>2.46</td><td>0</td><td>0.488</td><td>6.563</td><td>95.6</td><td>2.847</td><td>3</td><td>193</td></tr><tr><th>24</th><td>11.5779</td><td>0.0</td><td>18.1</td><td>0</td><td>0.7</td><td>5.036</td><td>97.0</td><td>1.77</td><td>24</td><td>666</td></tr><tr><th>25</th><td>0.1029</td><td>30.0</td><td>4.93</td><td>0</td><td>0.428</td><td>6.358</td><td>52.9</td><td>7.0355</td><td>6</td><td>300</td></tr><tr><th>26</th><td>9.72418</td><td>0.0</td><td>18.1</td><td>0</td><td>0.74</td><td>6.406</td><td>97.2</td><td>2.0651</td><td>24</td><td>666</td></tr><tr><th>27</th><td>0.04544</td><td>0.0</td><td>3.24</td><td>0</td><td>0.46</td><td>6.144</td><td>32.2</td><td>5.8736</td><td>4</td><td>430</td></tr><tr><th>28</th><td>4.64689</td><td>0.0</td><td>18.1</td><td>0</td><td>0.614</td><td>6.98</td><td>67.6</td><td>2.5329</td><td>24</td><td>666</td></tr><tr><th>29</th><td>0.32543</td><td>0.0</td><td>21.89</td><td>0</td><td>0.624</td><td>6.431</td><td>98.8</td><td>1.8125</td><td>4</td><td>437</td></tr><tr><th>30</th><td>0.13262</td><td>0.0</td><td>8.56</td><td>0</td><td>0.52</td><td>5.851</td><td>96.7</td><td>2.1069</td><td>5</td><td>384</td></tr><tr><th>&vellip;</th><td>&vellip;</td><td>&vellip;</td><td>&vellip;</td><td>&vellip;</td><td>&vellip;</td><td>&vellip;</td><td>&vellip;</td><td>&vellip;</td><td>&vellip;</td><td>&vellip;</td></tr></tbody></table>"
      ],
      "text/latex": [
       "\\begin{tabular}{r|ccccccccccc}\n",
       "\t& Crim & Zn & Indus & Chas & NOx & Rm & Age & Dis & Rad & Tax & \\\\\n",
       "\t\\hline\n",
       "\t& Float64 & Float64 & Float64 & Int64 & Float64 & Float64 & Float64 & Float64 & Int64 & Int64 & \\\\\n",
       "\t\\hline\n",
       "\t1 & 4.54192 & 0.0 & 18.1 & 0 & 0.77 & 6.398 & 88.0 & 2.5182 & 24 & 666 & $\\dots$ \\\\\n",
       "\t2 & 0.07022 & 0.0 & 4.05 & 0 & 0.51 & 6.02 & 47.2 & 3.5549 & 5 & 296 & $\\dots$ \\\\\n",
       "\t3 & 0.10574 & 0.0 & 27.74 & 0 & 0.609 & 5.983 & 98.8 & 1.8681 & 4 & 711 & $\\dots$ \\\\\n",
       "\t4 & 0.06151 & 0.0 & 5.19 & 0 & 0.515 & 5.968 & 58.5 & 4.8122 & 5 & 224 & $\\dots$ \\\\\n",
       "\t5 & 0.12329 & 0.0 & 10.01 & 0 & 0.547 & 5.913 & 92.9 & 2.3534 & 6 & 432 & $\\dots$ \\\\\n",
       "\t6 & 0.11027 & 25.0 & 5.13 & 0 & 0.453 & 6.456 & 67.8 & 7.2255 & 8 & 284 & $\\dots$ \\\\\n",
       "\t7 & 0.10328 & 25.0 & 5.13 & 0 & 0.453 & 5.927 & 47.2 & 6.932 & 8 & 284 & $\\dots$ \\\\\n",
       "\t8 & 14.0507 & 0.0 & 18.1 & 0 & 0.597 & 6.657 & 100.0 & 1.5275 & 24 & 666 & $\\dots$ \\\\\n",
       "\t9 & 0.41238 & 0.0 & 6.2 & 0 & 0.504 & 7.163 & 79.9 & 3.2157 & 8 & 307 & $\\dots$ \\\\\n",
       "\t10 & 1.12658 & 0.0 & 19.58 & 1 & 0.871 & 5.012 & 88.0 & 1.6102 & 5 & 403 & $\\dots$ \\\\\n",
       "\t11 & 0.01951 & 17.5 & 1.38 & 0 & 0.4161 & 7.104 & 59.5 & 9.2229 & 3 & 216 & $\\dots$ \\\\\n",
       "\t12 & 0.28392 & 0.0 & 7.38 & 0 & 0.493 & 5.708 & 74.3 & 4.7211 & 5 & 287 & $\\dots$ \\\\\n",
       "\t13 & 0.5405 & 20.0 & 3.97 & 0 & 0.575 & 7.47 & 52.6 & 2.872 & 5 & 264 & $\\dots$ \\\\\n",
       "\t14 & 0.05083 & 0.0 & 5.19 & 0 & 0.515 & 6.316 & 38.1 & 6.4584 & 5 & 224 & $\\dots$ \\\\\n",
       "\t15 & 0.12579 & 45.0 & 3.44 & 0 & 0.437 & 6.556 & 29.1 & 4.5667 & 5 & 398 & $\\dots$ \\\\\n",
       "\t16 & 0.14932 & 25.0 & 5.13 & 0 & 0.453 & 5.741 & 66.2 & 7.2254 & 8 & 284 & $\\dots$ \\\\\n",
       "\t17 & 0.12204 & 0.0 & 2.89 & 0 & 0.445 & 6.625 & 57.8 & 3.4952 & 2 & 276 & $\\dots$ \\\\\n",
       "\t18 & 0.06466 & 70.0 & 2.24 & 0 & 0.4 & 6.345 & 20.1 & 7.8278 & 5 & 358 & $\\dots$ \\\\\n",
       "\t19 & 5.70818 & 0.0 & 18.1 & 0 & 0.532 & 6.75 & 74.9 & 3.3317 & 24 & 666 & $\\dots$ \\\\\n",
       "\t20 & 2.73397 & 0.0 & 19.58 & 0 & 0.871 & 5.597 & 94.9 & 1.5257 & 5 & 403 & $\\dots$ \\\\\n",
       "\t21 & 11.1604 & 0.0 & 18.1 & 0 & 0.74 & 6.629 & 94.6 & 2.1247 & 24 & 666 & $\\dots$ \\\\\n",
       "\t22 & 19.6091 & 0.0 & 18.1 & 0 & 0.671 & 7.313 & 97.9 & 1.3163 & 24 & 666 & $\\dots$ \\\\\n",
       "\t23 & 0.10008 & 0.0 & 2.46 & 0 & 0.488 & 6.563 & 95.6 & 2.847 & 3 & 193 & $\\dots$ \\\\\n",
       "\t24 & 11.5779 & 0.0 & 18.1 & 0 & 0.7 & 5.036 & 97.0 & 1.77 & 24 & 666 & $\\dots$ \\\\\n",
       "\t25 & 0.1029 & 30.0 & 4.93 & 0 & 0.428 & 6.358 & 52.9 & 7.0355 & 6 & 300 & $\\dots$ \\\\\n",
       "\t26 & 9.72418 & 0.0 & 18.1 & 0 & 0.74 & 6.406 & 97.2 & 2.0651 & 24 & 666 & $\\dots$ \\\\\n",
       "\t27 & 0.04544 & 0.0 & 3.24 & 0 & 0.46 & 6.144 & 32.2 & 5.8736 & 4 & 430 & $\\dots$ \\\\\n",
       "\t28 & 4.64689 & 0.0 & 18.1 & 0 & 0.614 & 6.98 & 67.6 & 2.5329 & 24 & 666 & $\\dots$ \\\\\n",
       "\t29 & 0.32543 & 0.0 & 21.89 & 0 & 0.624 & 6.431 & 98.8 & 1.8125 & 4 & 437 & $\\dots$ \\\\\n",
       "\t30 & 0.13262 & 0.0 & 8.56 & 0 & 0.52 & 5.851 & 96.7 & 2.1069 & 5 & 384 & $\\dots$ \\\\\n",
       "\t$\\dots$ & $\\dots$ & $\\dots$ & $\\dots$ & $\\dots$ & $\\dots$ & $\\dots$ & $\\dots$ & $\\dots$ & $\\dots$ & $\\dots$ &  \\\\\n",
       "\\end{tabular}\n"
      ],
      "text/plain": [
       "101×14 DataFrame. Omitted printing of 7 columns\n",
       "│ Row │ Crim    │ Zn      │ Indus   │ Chas  │ NOx     │ Rm      │ Age     │\n",
       "│     │ \u001b[90mFloat64\u001b[39m │ \u001b[90mFloat64\u001b[39m │ \u001b[90mFloat64\u001b[39m │ \u001b[90mInt64\u001b[39m │ \u001b[90mFloat64\u001b[39m │ \u001b[90mFloat64\u001b[39m │ \u001b[90mFloat64\u001b[39m │\n",
       "├─────┼─────────┼─────────┼─────────┼───────┼─────────┼─────────┼─────────┤\n",
       "│ 1   │ 4.54192 │ 0.0     │ 18.1    │ 0     │ 0.77    │ 6.398   │ 88.0    │\n",
       "│ 2   │ 0.07022 │ 0.0     │ 4.05    │ 0     │ 0.51    │ 6.02    │ 47.2    │\n",
       "│ 3   │ 0.10574 │ 0.0     │ 27.74   │ 0     │ 0.609   │ 5.983   │ 98.8    │\n",
       "│ 4   │ 0.06151 │ 0.0     │ 5.19    │ 0     │ 0.515   │ 5.968   │ 58.5    │\n",
       "│ 5   │ 0.12329 │ 0.0     │ 10.01   │ 0     │ 0.547   │ 5.913   │ 92.9    │\n",
       "│ 6   │ 0.11027 │ 25.0    │ 5.13    │ 0     │ 0.453   │ 6.456   │ 67.8    │\n",
       "│ 7   │ 0.10328 │ 25.0    │ 5.13    │ 0     │ 0.453   │ 5.927   │ 47.2    │\n",
       "│ 8   │ 14.0507 │ 0.0     │ 18.1    │ 0     │ 0.597   │ 6.657   │ 100.0   │\n",
       "│ 9   │ 0.41238 │ 0.0     │ 6.2     │ 0     │ 0.504   │ 7.163   │ 79.9    │\n",
       "│ 10  │ 1.12658 │ 0.0     │ 19.58   │ 1     │ 0.871   │ 5.012   │ 88.0    │\n",
       "⋮\n",
       "│ 91  │ 12.8023 │ 0.0     │ 18.1    │ 0     │ 0.74    │ 5.854   │ 96.6    │\n",
       "│ 92  │ 0.11069 │ 0.0     │ 13.89   │ 1     │ 0.55    │ 5.951   │ 93.8    │\n",
       "│ 93  │ 0.52058 │ 0.0     │ 6.2     │ 1     │ 0.507   │ 6.631   │ 76.5    │\n",
       "│ 94  │ 0.07151 │ 0.0     │ 4.49    │ 0     │ 0.449   │ 6.121   │ 56.8    │\n",
       "│ 95  │ 7.02259 │ 0.0     │ 18.1    │ 0     │ 0.718   │ 6.006   │ 95.3    │\n",
       "│ 96  │ 0.01501 │ 90.0    │ 1.21    │ 1     │ 0.401   │ 7.923   │ 24.8    │\n",
       "│ 97  │ 0.80271 │ 0.0     │ 8.14    │ 0     │ 0.538   │ 5.456   │ 36.6    │\n",
       "│ 98  │ 0.33983 │ 22.0    │ 5.86    │ 0     │ 0.431   │ 6.108   │ 34.9    │\n",
       "│ 99  │ 0.38735 │ 0.0     │ 25.65   │ 0     │ 0.581   │ 5.613   │ 95.6    │\n",
       "│ 100 │ 0.25356 │ 0.0     │ 9.9     │ 0     │ 0.544   │ 5.705   │ 77.7    │\n",
       "│ 101 │ 5.29305 │ 0.0     │ 18.1    │ 0     │ 0.7     │ 6.051   │ 82.5    │"
      ]
     },
     "execution_count": 4,
     "metadata": {},
     "output_type": "execute_result"
    }
   ],
   "source": [
    "train = boston[train_ind, :]\n",
    "test = boston[test_ind, :]"
   ]
  },
  {
   "cell_type": "code",
   "execution_count": 5,
   "metadata": {},
   "outputs": [
    {
     "data": {
      "text/plain": [
       "StatsModels.TableRegressionModel{LinearModel{GLM.LmResp{Array{Float64,1}},GLM.DensePredChol{Float64,LinearAlgebra.Cholesky{Float64,Array{Float64,2}}}},Array{Float64,2}}\n",
       "\n",
       "Black ~ 1 + Crim + Zn + Indus + Chas + NOx + Rm + Age + Dis + Rad + Tax + PTRatio + LStat + MedV\n",
       "\n",
       "Coefficients:\n",
       "────────────────────────────────────────────────────────────────────────────────\n",
       "                    Coef.  Std. Error      t  Pr(>|t|)    Lower 95%    Upper 95%\n",
       "────────────────────────────────────────────────────────────────────────────────\n",
       "(Intercept)  465.824       97.9023      4.76    <1e-5    273.343     658.304\n",
       "Crim          -1.27342      0.628746   -2.03    0.0435    -2.50957    -0.0372739\n",
       "Zn            -0.0674429    0.263648   -0.26    0.7982    -0.585787    0.450902\n",
       "Indus         -1.11983      1.22927    -0.91    0.3629    -3.53664     1.29698\n",
       "Chas          21.9272      18.0692      1.21    0.2257   -13.5978     57.4521\n",
       "NOx          -50.0997      77.6609     -0.65    0.5192  -202.785     102.585\n",
       "Rm           -30.6775       8.44946    -3.63    0.0003   -47.2896    -14.0655\n",
       "Age            0.238763     0.259902    0.92    0.3588    -0.272217    0.749744\n",
       "Dis            1.98195      4.09163     0.48    0.6284    -6.06239    10.0263\n",
       "Rad           -2.89784      1.33176    -2.18    0.0302    -5.51614    -0.27954\n",
       "Tax           -0.00978712   0.0769146  -0.13    0.8988    -0.161005    0.141431\n",
       "PTRatio        4.32262      2.59378     1.67    0.0964    -0.776883    9.42213\n",
       "LStat         -1.14659      1.07729    -1.06    0.2878    -3.2646      0.971412\n",
       "MedV           2.97921      0.853637    3.49    0.0005     1.30092     4.6575\n",
       "────────────────────────────────────────────────────────────────────────────────"
      ]
     },
     "execution_count": 5,
     "metadata": {},
     "output_type": "execute_result"
    }
   ],
   "source": [
    "model = GLM.lm(@formula(Black ~ Crim + Zn + Indus + Chas + NOx + Rm + Age + Dis + Rad + Tax + PTRatio + LStat + MedV), train)"
   ]
  },
  {
   "cell_type": "code",
   "execution_count": 6,
   "metadata": {},
   "outputs": [
    {
     "data": {
      "text/plain": [
       "101-element Array{Union{Missing, Float64},1}:\n",
       " 307.7203625977372\n",
       " 381.17953478173456\n",
       " 335.9958646379099\n",
       " 390.248558063535\n",
       " 365.2522754257832\n",
       " 385.6271195504\n",
       " 385.76324196535586\n",
       " 258.5985228592813\n",
       " 374.6896663286296\n",
       " 367.9941715147713\n",
       " 415.4563064130262\n",
       " 393.5680076919894\n",
       " 384.7168760785386\n",
       "   ⋮\n",
       " 396.66644445226603\n",
       " 255.56213390442693\n",
       " 387.2676616137546\n",
       " 390.67413807013696\n",
       " 396.7406973878112\n",
       " 278.4145824461697\n",
       " 434.03307701631184\n",
       " 400.57441292055216\n",
       " 393.6114910603487\n",
       " 352.0581910525467\n",
       " 378.5625708848102\n",
       " 300.96755315042736"
      ]
     },
     "execution_count": 6,
     "metadata": {},
     "output_type": "execute_result"
    }
   ],
   "source": [
    "predict(model, test)"
   ]
  },
  {
   "cell_type": "code",
   "execution_count": 7,
   "metadata": {},
   "outputs": [
    {
     "data": {
      "text/plain": [
       "0.310267383665186"
      ]
     },
     "execution_count": 7,
     "metadata": {},
     "output_type": "execute_result"
    }
   ],
   "source": [
    "GLM.r²(model)"
   ]
  },
  {
   "cell_type": "code",
   "execution_count": 8,
   "metadata": {},
   "outputs": [
    {
     "data": {
      "text/plain": [
       "0.28733509718858097"
      ]
     },
     "execution_count": 8,
     "metadata": {},
     "output_type": "execute_result"
    }
   ],
   "source": [
    "GLM.adjr²(model)"
   ]
  },
  {
   "cell_type": "code",
   "execution_count": null,
   "metadata": {},
   "outputs": [],
   "source": []
  }
 ],
 "metadata": {
  "kernelspec": {
   "display_name": "Julia 1.5.3",
   "language": "julia",
   "name": "julia-1.5"
  },
  "language_info": {
   "file_extension": ".jl",
   "mimetype": "application/julia",
   "name": "julia",
   "version": "1.5.3"
  }
 },
 "nbformat": 4,
 "nbformat_minor": 4
}
