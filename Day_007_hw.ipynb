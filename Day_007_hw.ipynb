{
 "cells": [
  {
   "cell_type": "code",
   "execution_count": 1,
   "metadata": {},
   "outputs": [
    {
     "name": "stdout",
     "output_type": "stream",
     "text": [
      "3\n",
      "6\n",
      "9\n",
      "12\n",
      "18\n",
      "21\n",
      "24\n",
      "27\n",
      "33\n",
      "36\n",
      "39\n",
      "42\n",
      "48\n",
      "51\n",
      "54\n",
      "57\n",
      "63\n",
      "66\n",
      "69\n",
      "72\n",
      "78\n",
      "81\n",
      "84\n",
      "87\n",
      "93\n",
      "96\n",
      "99\n"
     ]
    }
   ],
   "source": [
    "x = 1 #範圍起始\n",
    "y = 100 #範圍結束\n",
    "# 程式碼\n",
    "while x < y\n",
    "    x += 1\n",
    "    if x % 3 == 0\n",
    "        if x % 5 != 0\n",
    "            println(x)\n",
    "        end\n",
    "    end            \n",
    "end"
   ]
  },
  {
   "cell_type": "markdown",
   "metadata": {},
   "source": [
    "作業2：答案是C"
   ]
  },
  {
   "cell_type": "code",
   "execution_count": null,
   "metadata": {},
   "outputs": [],
   "source": []
  }
 ],
 "metadata": {
  "kernelspec": {
   "display_name": "Julia 1.5.3",
   "language": "julia",
   "name": "julia-1.5"
  },
  "language_info": {
   "file_extension": ".jl",
   "mimetype": "application/julia",
   "name": "julia",
   "version": "1.5.3"
  }
 },
 "nbformat": 4,
 "nbformat_minor": 4
}
