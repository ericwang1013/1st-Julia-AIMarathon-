{
 "cells": [
  {
   "cell_type": "code",
   "execution_count": 1,
   "metadata": {},
   "outputs": [],
   "source": [
    "using JSON"
   ]
  },
  {
   "cell_type": "code",
   "execution_count": 2,
   "metadata": {},
   "outputs": [
    {
     "name": "stdout",
     "output_type": "stream",
     "text": [
      "Pair{String,Any}(\"CityName\", \"臺北市\")->Pair{String,Any}(\"CityEngName\", \"Taipei City\")\n",
      "Pair{String,Any}(\"CityName\", \"基隆市\")->Pair{String,Any}(\"CityEngName\", \"Keelung City\")\n",
      "Pair{String,Any}(\"CityName\", \"新北市\")->Pair{String,Any}(\"CityEngName\", \"New Taipei City\")\n",
      "Pair{String,Any}(\"CityName\", \"連江縣\")->Pair{String,Any}(\"CityEngName\", \"Lienchiang County\")\n",
      "Pair{String,Any}(\"CityName\", \"宜蘭縣\")->Pair{String,Any}(\"CityEngName\", \"Yilan County\")\n",
      "Pair{String,Any}(\"CityName\", \"釣魚臺\")->Pair{String,Any}(\"CityEngName\", \"Diauyutai\")\n",
      "Pair{String,Any}(\"CityName\", \"新竹市\")->Pair{String,Any}(\"CityEngName\", \"Hsinchu City\")\n",
      "Pair{String,Any}(\"CityName\", \"新竹縣\")->Pair{String,Any}(\"CityEngName\", \"Hsinchu County\")\n",
      "Pair{String,Any}(\"CityName\", \"桃園市\")->Pair{String,Any}(\"CityEngName\", \"Taoyuan City\")\n",
      "Pair{String,Any}(\"CityName\", \"苗栗縣\")->Pair{String,Any}(\"CityEngName\", \"Miaoli County\")\n",
      "Pair{String,Any}(\"CityName\", \"臺中市\")->Pair{String,Any}(\"CityEngName\", \"Taichung City\")\n",
      "Pair{String,Any}(\"CityName\", \"彰化縣\")->Pair{String,Any}(\"CityEngName\", \"Changhua County\")\n",
      "Pair{String,Any}(\"CityName\", \"南投縣\")->Pair{String,Any}(\"CityEngName\", \"Nantou County\")\n",
      "Pair{String,Any}(\"CityName\", \"嘉義市\")->Pair{String,Any}(\"CityEngName\", \"Chiayi City\")\n",
      "Pair{String,Any}(\"CityName\", \"嘉義縣\")->Pair{String,Any}(\"CityEngName\", \"Chiayi County\")\n",
      "Pair{String,Any}(\"CityName\", \"雲林縣\")->Pair{String,Any}(\"CityEngName\", \"Yunlin County\")\n",
      "Pair{String,Any}(\"CityName\", \"臺南市\")->Pair{String,Any}(\"CityEngName\", \"Tainan City\")\n",
      "Pair{String,Any}(\"CityName\", \"高雄市\")->Pair{String,Any}(\"CityEngName\", \"Kaohsiung City\")\n",
      "Pair{String,Any}(\"CityName\", \"南海島\")->Pair{String,Any}(\"CityEngName\", \"Nanhai\")\n",
      "Pair{String,Any}(\"CityName\", \"澎湖縣\")->Pair{String,Any}(\"CityEngName\", \"Penghu County\")\n",
      "Pair{String,Any}(\"CityName\", \"金門縣\")->Pair{String,Any}(\"CityEngName\", \"Kinmen County\")\n",
      "Pair{String,Any}(\"CityName\", \"屏東縣\")->Pair{String,Any}(\"CityEngName\", \"Pingtung County\")\n",
      "Pair{String,Any}(\"CityName\", \"臺東縣\")->Pair{String,Any}(\"CityEngName\", \"Taitung County\")\n",
      "Pair{String,Any}(\"CityName\", \"花蓮縣\")->Pair{String,Any}(\"CityEngName\", \"Hualien County\")\n"
     ]
    }
   ],
   "source": [
    "data = JSON.parsefile(\"CityCountyData.json\")\n",
    "for (k,v) in data\n",
    "    println(k,\"->\",v)\n",
    "end"
   ]
  },
  {
   "cell_type": "code",
   "execution_count": 3,
   "metadata": {},
   "outputs": [
    {
     "data": {
      "text/plain": [
       "\"永和有永和路，中和也有永和路，\\n中和有中和路，永和也有中和路；\\n中和的中和路有接永和的中和路，\\n永和的永和路沒接中和的永和路；\\n永和的中和路有接永和的永和路，\\n中和的永和路沒接中和的中和路。\\n\\n永和有中正路，中和也有中正路；\\n永和的中正路用景平路接中和的中正路。\\n永和有中山路，中和也有中山路；\\n永和的中山路直接接上了中和的中山路。\\n永和的中正路接上了永和的中山路；\\n中和的中正路卻不接中和的中山路。\\n\\n中正橋下來不是中正路，但永和有中正路；\\n秀朗橋下來不是秀朗路，但永和有秀朗路。\\n永福橋下來不是永福路，永和沒有永福路；\\n福和橋下來不是福和路，但福和路接的卻是永福橋。\\n\\n中和中和路永和永和路\\n永和中和路中和永和路\\n中和中山路永和中正路\\n永和中山路中和中正路\""
      ]
     },
     "execution_count": 3,
     "metadata": {},
     "output_type": "execute_result"
    }
   ],
   "source": [
    "str = \"永和有永和路，中和也有永和路，\n",
    "中和有中和路，永和也有中和路；\n",
    "中和的中和路有接永和的中和路，\n",
    "永和的永和路沒接中和的永和路；\n",
    "永和的中和路有接永和的永和路，\n",
    "中和的永和路沒接中和的中和路。\n",
    "\n",
    "永和有中正路，中和也有中正路；\n",
    "永和的中正路用景平路接中和的中正路。\n",
    "永和有中山路，中和也有中山路；\n",
    "永和的中山路直接接上了中和的中山路。\n",
    "永和的中正路接上了永和的中山路；\n",
    "中和的中正路卻不接中和的中山路。\n",
    "\n",
    "中正橋下來不是中正路，但永和有中正路；\n",
    "秀朗橋下來不是秀朗路，但永和有秀朗路。\n",
    "永福橋下來不是永福路，永和沒有永福路；\n",
    "福和橋下來不是福和路，但福和路接的卻是永福橋。\n",
    "\n",
    "中和中和路永和永和路\n",
    "永和中和路中和永和路\n",
    "中和中山路永和中正路\n",
    "永和中山路中和中正路\""
   ]
  },
  {
   "cell_type": "code",
   "execution_count": 4,
   "metadata": {},
   "outputs": [],
   "source": [
    "d = Dict{String, Int64}()\n",
    "\n",
    "for c ∈ str\n",
    "    d[string(c)] = get(d, string(c), 0) + 1\n",
    "end"
   ]
  },
  {
   "cell_type": "code",
   "execution_count": 5,
   "metadata": {},
   "outputs": [
    {
     "data": {
      "text/plain": [
       "\"{\\\"接\\\":10,\\\"上\\\":2,\\\"是\\\":5,\\\"也\\\":4,\\\"直\\\":1,\\\"秀\\\":3,\\\"和\\\":54,\\\"來\\\":4,\\\"，\\\":11,\\\"沒\\\":3,\\\"永\\\":31,\\\"的\\\":17,\\\"平\\\":1,\\\"但\\\":3,\\\"正\\\":11,\\\"不\\\":5,\\\"用\\\":1,\\\"中\\\":43,\\\"橋\\\":5,\\\"福\\\":7,\\\"路\\\":41,\\\"山\\\":8,\\\"；\\\":7,\\\"。\\\":6,\\\"卻\\\":2,\\\"下\\\":4,\\\"了\\\":2,\\\"有\\\":13,\\\"景\\\":1,\\\"朗\\\":3,\\\"\\\\n\\\":22}\""
      ]
     },
     "execution_count": 5,
     "metadata": {},
     "output_type": "execute_result"
    }
   ],
   "source": [
    "using JSON\n",
    "data = JSON.json(d)"
   ]
  },
  {
   "cell_type": "code",
   "execution_count": 6,
   "metadata": {},
   "outputs": [],
   "source": [
    "f = open(\"temp.json\", \"w\")\n",
    "println(f, data)\n",
    "close(f)"
   ]
  },
  {
   "cell_type": "code",
   "execution_count": 7,
   "metadata": {},
   "outputs": [
    {
     "data": {
      "text/plain": [
       "Dict{String,Any} with 31 entries:\n",
       "  \"接… => 10\n",
       "  \"上… => 2\n",
       "  \"是… => 5\n",
       "  \"也… => 4\n",
       "  \"直… => 1\n",
       "  \"秀… => 3\n",
       "  \"和… => 54\n",
       "  \"來… => 4\n",
       "  \"，… => 11\n",
       "  \"沒… => 3\n",
       "  \"永… => 31\n",
       "  \"的… => 17\n",
       "  \"平… => 1\n",
       "  \"但… => 3\n",
       "  \"正… => 11\n",
       "  \"不… => 5\n",
       "  \"用… => 1\n",
       "  \"中… => 43\n",
       "  \"橋… => 5\n",
       "  \"福… => 7\n",
       "  \"路… => 41\n",
       "  \"山… => 8\n",
       "  \"；… => 7\n",
       "  \"。… => 6\n",
       "  \"卻… => 2\n",
       "  ⋮   => ⋮"
      ]
     },
     "execution_count": 7,
     "metadata": {},
     "output_type": "execute_result"
    }
   ],
   "source": [
    "JSON.parsefile(\"temp.json\")"
   ]
  },
  {
   "cell_type": "code",
   "execution_count": null,
   "metadata": {},
   "outputs": [],
   "source": []
  }
 ],
 "metadata": {
  "kernelspec": {
   "display_name": "Julia 1.5.3",
   "language": "julia",
   "name": "julia-1.5"
  },
  "language_info": {
   "file_extension": ".jl",
   "mimetype": "application/julia",
   "name": "julia",
   "version": "1.5.3"
  }
 },
 "nbformat": 4,
 "nbformat_minor": 4
}
